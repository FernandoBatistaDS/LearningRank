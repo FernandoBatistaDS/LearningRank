{
 "cells": [
  {
   "cell_type": "markdown",
   "metadata": {},
   "source": [
    "*Our client is an Insurance company that has provided Health Insurance to its customers now they need our help in building a model to predict whether the policyholders (customers) from past year will also be interested in Vehicle Insurance provided by the company.*\n",
    "\n",
    "Data: https://www.kaggle.com/datasets/anmolkumar/health-insurance-cross-sell-prediction/data"
   ]
  },
  {
   "cell_type": "markdown",
   "metadata": {},
   "source": [
    "# 0.0 Imports and functions"
   ]
  },
  {
   "cell_type": "code",
   "execution_count": null,
   "metadata": {},
   "outputs": [],
   "source": [
    "import pandas   as pd\n",
    "import numpy    as np\n",
    "import seaborn  as sns\n",
    "import sweetviz as sv\n",
    "\n",
    "from matplotlib import  pyplot  as plt\n",
    "from ipywidgets import  HTML\n",
    "\n",
    "from ydata_profiling    import  ProfileReport"
   ]
  },
  {
   "cell_type": "code",
   "execution_count": null,
   "metadata": {},
   "outputs": [],
   "source": [
    "# Changing the plt layout\n",
    "def jupyter_settings():\n",
    "    plt.style.use( 'bmh' )\n",
    "    plt.rcParams['figure.figsize'] = [25, 12]\n",
    "    plt.rcParams['font.size'] = 24\n",
    "    display( HTML( '<style>.container { width:100% !important; }</style>') )\n",
    "    pd.options.display.max_columns = None\n",
    "    pd.options.display.max_rows = None\n",
    "    pd.set_option( 'display.expand_frame_repr', False )\n",
    "    sns.set()\n",
    "\n",
    "# Call the function \n",
    "jupyter_settings()"
   ]
  },
  {
   "cell_type": "markdown",
   "metadata": {},
   "source": [
    "## 0.1 Read csv"
   ]
  },
  {
   "cell_type": "code",
   "execution_count": null,
   "metadata": {},
   "outputs": [],
   "source": [
    "# Read csv\n",
    "df_train    =   pd.read_csv('./dataset/train.csv')"
   ]
  },
  {
   "cell_type": "code",
   "execution_count": null,
   "metadata": {},
   "outputs": [],
   "source": [
    "# Print csv\n",
    "df_train.head()"
   ]
  },
  {
   "cell_type": "markdown",
   "metadata": {},
   "source": [
    "# 1.0 Data description"
   ]
  },
  {
   "cell_type": "code",
   "execution_count": null,
   "metadata": {},
   "outputs": [],
   "source": [
    "df1 = df_train.copy()  # Created a copy of the original DataFrame\n",
    "\n",
    "# Perform the cleaning on the column names.\n",
    "df1.columns = df1.columns.str.lower()\n",
    "df1.columns = df1.columns.str.strip()\n",
    "df1.columns = df1.columns.str.replace(' ', '_')"
   ]
  },
  {
   "cell_type": "markdown",
   "metadata": {},
   "source": [
    "## 1.1 Columns"
   ]
  },
  {
   "cell_type": "code",
   "execution_count": null,
   "metadata": {},
   "outputs": [],
   "source": [
    "# Print columns\n",
    "df1.columns"
   ]
  },
  {
   "cell_type": "markdown",
   "metadata": {},
   "source": [
    "## 1.2 Data dimension"
   ]
  },
  {
   "cell_type": "code",
   "execution_count": null,
   "metadata": {},
   "outputs": [],
   "source": [
    "print(f'Number of rows: {df1.shape[0]}')\n",
    "print(f'Number of columns: {df1.shape[1]}')"
   ]
  },
  {
   "cell_type": "markdown",
   "metadata": {},
   "source": [
    "## 1.3 Data types"
   ]
  },
  {
   "cell_type": "code",
   "execution_count": null,
   "metadata": {},
   "outputs": [],
   "source": [
    "df1.dtypes"
   ]
  },
  {
   "cell_type": "markdown",
   "metadata": {},
   "source": [
    "## 1.4 Column description"
   ]
  },
  {
   "cell_type": "markdown",
   "metadata": {},
   "source": [
    "**id int64** =>  \"Unique ID for the customer\"\n",
    "\n",
    "**gender object** =>  \"Male and Female\"\n",
    "\n",
    "**age int64** =>  \"Age 20-85\"\n",
    "\n",
    "**driving_license int64** =>  \"Driving_License 0 : Customer does not have DL, 1 : Customer already has DL\"\n",
    "\n",
    "**region_code float64** =>  \"Unique code for the region of the customer\"\n",
    "\n",
    "**previously_insured int64** =>  \"1 : Customer already has Vehicle Insurance, 0 : Customer doesn't have Vehicle Insurance\"\n",
    "\n",
    "**vehicle_age object** =>  \"Age of the Vehicle\"\n",
    "\n",
    "**vehicle_damage object** =>  \"1 : Customer got his/her vehicle damaged in the past. 0 : Customer didn't get his/her vehicle damaged in the past.\"\n",
    "\n",
    "**annual_premium float64** =>  \"The amount customer needs to pay as premium in the year\"\n",
    "-- The monthly amount is paid per year\n",
    "\n",
    "**policy_sales_channel float64** =>  \"Anonymized Code for the channel of outreaching to the customer ie. Different Agents, Over Mail, Over Phone, In Person, etc.\"\n",
    "\n",
    "**vintage int64** =>  \"Number of Days, Customer has been associated with the company\"\n",
    "\n",
    "**response int64** =>  \"\t1 : Customer is interested, 0 : Customer is not interested\""
   ]
  },
  {
   "cell_type": "markdown",
   "metadata": {},
   "source": [
    "## 1.5 Questions"
   ]
  },
  {
   "cell_type": "markdown",
   "metadata": {},
   "source": [
    "**id int64** =>  \"Unique ID for the customer\"\n",
    "- No questions found for \"id\"\n",
    "\n",
    "**gender object** =>  \"Male and Female\"\n",
    "- Women take more care of their health\n",
    "- Male has more car\n",
    "- Male has more *driving_license*\n",
    "- Male has more *previously_insured*\n",
    "\n",
    "**age int64** =>  \"Age 20-85\"\n",
    "- The older the more interested\n",
    "- The older the driving_license\n",
    "- The older the previously_insured\n",
    "- The older the more annual_premium \n",
    "\n",
    "**driving_license int64** =>  \"Driving_License 0 : Customer does not have DL, 1 : Customer already has DL\"\n",
    "- The customer who already has a DL, has previously_insured\n",
    "- The customer who already has a DL, has vehicle_damage\n",
    "\n",
    "**region_code float64** =>  \"Unique code for the region of the customer\"\n",
    "\n",
    "\n",
    "**previously_insured int64** =>  \"1 : Customer already has Vehicle Insurance, 0 : Customer doesn't have Vehicle Insurance\"\n",
    "- previously_insured is a vehicle_age, vehicle_damage\n",
    "\n",
    "**vehicle_age object** =>  \"Age of the Vehicle\"\n",
    "- Idade do veiculo, quanto mais velho possivelmente já tenha seguro e não vai ter interesse\n",
    "\n",
    "**vehicle_damage object** =>  \"1 : Customer got his/her vehicle damaged in the past. 0 : Customer didn't get his/her vehicle damaged in the past.\"\n",
    "- Se teve algum dano no carro, possivelmente tem interesse pois foi caro o valor de pagamento\n",
    "\n",
    "**annual_premium float64** =>  \"The amount customer needs to pay as premium in the year\" -- The monthly amount is paid per year\n",
    "- Se paga mais, tem mais dinheiro. Possivelmente vai querer o seguro se gostar da empresa\n",
    "\n",
    "**policy_sales_channel float64** =>  \"Anonymized Code for the channel of outreaching to the customer ie. Different Agents, Over Mail, Over Phone, In Person, etc.\"\n",
    "- Codigo de canal de divulgação\n",
    "\n",
    "**vintage int64** =>  \"Number of Days, Customer has been associated with the company\"\n",
    "- Quanto mais tempo associado, mas provavemente aceitar\n",
    "\n",
    "**response int64** =>  \"\t1 : Customer is interested, 0 : Customer is not interested\"\n",
    "- 1 Interessado\n",
    "- 0 Desinteressado"
   ]
  },
  {
   "cell_type": "markdown",
   "metadata": {},
   "source": [
    "# 2.0 Feature Engineering"
   ]
  },
  {
   "cell_type": "code",
   "execution_count": null,
   "metadata": {},
   "outputs": [],
   "source": [
    "df2 = df1.copy()"
   ]
  },
  {
   "cell_type": "markdown",
   "metadata": {},
   "source": [
    "## 2.1 Feature Engineering"
   ]
  },
  {
   "cell_type": "code",
   "execution_count": null,
   "metadata": {},
   "outputs": [],
   "source": [
    "df2.head()"
   ]
  },
  {
   "cell_type": "code",
   "execution_count": null,
   "metadata": {},
   "outputs": [],
   "source": [
    "df2['vehicle_age'].unique()"
   ]
  },
  {
   "cell_type": "code",
   "execution_count": null,
   "metadata": {},
   "outputs": [],
   "source": [
    "# Female    =   0\n",
    "# Male      =   1\n",
    "df2['gender']           =   df2['gender'].map({'Female': 0, 'Male': 1})\n",
    "\n",
    "# Menos de 1 ano    =   0\n",
    "# Entre 1 e 2 anos  =   1\n",
    "# Mais de 2 anos    =   2\n",
    "df2['vehicle_age']      =   df2['vehicle_age'].map({'< 1 Year': 0, '1-2 Year': 1, '> 2 Years': 2})\n",
    "\n",
    "# Yes   =   1\n",
    "# No    =   0\n",
    "df2['vehicle_damage']   =   df2['vehicle_damage'].map({'No': 0, 'Yes': 1})"
   ]
  },
  {
   "cell_type": "code",
   "execution_count": null,
   "metadata": {},
   "outputs": [],
   "source": [
    "len(df2['annual_premium'].unique()), len(df2)"
   ]
  },
  {
   "cell_type": "code",
   "execution_count": null,
   "metadata": {},
   "outputs": [],
   "source": [
    "# # Analisando se tem outliers => Acredito que não, o valor paga mais alto em um convenio é mesmo uma opção para poucos.\n",
    "# len(df2[df2['annual_premium'] > 350000]['annual_premium'].unique()), len(df2[df2['annual_premium'] > 350000])"
   ]
  },
  {
   "cell_type": "code",
   "execution_count": null,
   "metadata": {},
   "outputs": [],
   "source": [
    "# sorted(df2[df2['annual_premium'] > 90000]['annual_premium'].unique(), reverse=True)\n",
    "# # sorted(df2[df2['annual_premium'] > 80000]['annual_premium'].unique())\n",
    "\n",
    "# # 540165\n",
    "# # 55177"
   ]
  },
  {
   "cell_type": "code",
   "execution_count": null,
   "metadata": {},
   "outputs": [],
   "source": [
    "# my_report = sv.analyze(df2)\n",
    "# my_report.show_html() # Default arguments will generate to \"SWEETVIZ_REPORT.html\""
   ]
  },
  {
   "cell_type": "code",
   "execution_count": null,
   "metadata": {},
   "outputs": [],
   "source": [
    "# profile = ProfileReport(df2, title=\"Profiling Report\")\n",
    "# profile"
   ]
  },
  {
   "cell_type": "markdown",
   "metadata": {},
   "source": [
    "## 2.2 Target field analysis 1 or 0"
   ]
  },
  {
   "cell_type": "code",
   "execution_count": null,
   "metadata": {},
   "outputs": [],
   "source": [
    "df2_response_1 = df2[df2['response'] == 1]\n",
    "df2_response_0 = df2[df2['response'] == 0]"
   ]
  },
  {
   "cell_type": "code",
   "execution_count": null,
   "metadata": {},
   "outputs": [],
   "source": [
    "df2[['response', 'driving_license']].groupby('driving_license').count()\n",
    "df2['driving_license'].unique()\n",
    "# sorted(df2['driving_license'].unique())"
   ]
  },
  {
   "cell_type": "code",
   "execution_count": null,
   "metadata": {},
   "outputs": [],
   "source": [
    "df2_response_1.describe()\n",
    "#   \"gender\"                =>  Bem distribuido\n",
    "#   \"age\"                   =>  Média maior\n",
    "#   \"driving_license\"       =>  Bem distribuido\n",
    "#   \"region_code\"           =>  Vamos ver sobre isso.\n",
    "#   \"previously_insured\"    =>  Não tem seguro automovel\n",
    "\n",
    "\n",
    "#   \"vehicle_age\"           =>  Tem mais volume no valor = 1 (Entre 1 e 2 anos)\n",
    "#   \"vehicle_damage\"        =>  Tem mais volume no valor = 1 (Sim, teve o veiculo danificado)\n",
    "#   \"annual_premium\"        =>  Parece estar muito bem destribuidos\n",
    "#   \"policy_sales_channel\"  =>  Analisar os canais de comunicação, achar o melhor canal!\n",
    "#   \"vintage\"               =>  Parece estar muito bem destribuidos"
   ]
  },
  {
   "cell_type": "code",
   "execution_count": null,
   "metadata": {},
   "outputs": [],
   "source": [
    "df2_response_0.describe()"
   ]
  },
  {
   "cell_type": "code",
   "execution_count": null,
   "metadata": {},
   "outputs": [],
   "source": [
    "df2.head()"
   ]
  },
  {
   "cell_type": "code",
   "execution_count": null,
   "metadata": {},
   "outputs": [],
   "source": [
    "# Calcular a matriz de correlação\n",
    "matriz_correlacao = df2.drop(columns=['id']).corr()\n",
    "# matriz_correlacao\n",
    "\n",
    "# Criar um gráfico de calor usando Seaborn\n",
    "# sns.set(style=\"white\")  # Estilo do gráfico\n",
    "# plt.figure(figsize=(8, 6))  # Tamanho da figura\n",
    "sns.heatmap(matriz_correlacao, cmap=\"coolwarm\", annot=True)\n",
    "plt.title('Matriz de Correlação')\n",
    "plt.show()"
   ]
  },
  {
   "cell_type": "markdown",
   "metadata": {},
   "source": [
    "# 3.0. Data Filtering"
   ]
  },
  {
   "cell_type": "code",
   "execution_count": null,
   "metadata": {},
   "outputs": [],
   "source": [
    "df3 = df2.copy()"
   ]
  },
  {
   "cell_type": "markdown",
   "metadata": {},
   "source": [
    "# 4.0. EDA"
   ]
  },
  {
   "cell_type": "code",
   "execution_count": null,
   "metadata": {},
   "outputs": [],
   "source": [
    "df4 = df3.copy()"
   ]
  },
  {
   "cell_type": "code",
   "execution_count": null,
   "metadata": {},
   "outputs": [],
   "source": [
    "df4.columns"
   ]
  },
  {
   "cell_type": "code",
   "execution_count": null,
   "metadata": {},
   "outputs": [],
   "source": [
    "df4_gender              =   df4[['id', 'gender', 'response']].groupby(['gender', 'response']).count().reset_index()\n",
    "df4_gender['gender']    =   df4_gender['gender'].map({0 : 'Female', 1 : 'Male'})\n",
    "df4_gender['response']  =   df4_gender['response'].map({0 : 'Não', 1 : 'Sim'})\n",
    "\n",
    "count_male                  =   df4_gender[df4_gender['gender'] == 'Male']['id'].sum()\n",
    "count_female                =   df4_gender[df4_gender['gender'] == 'Female']['id'].sum()\n",
    "df4_gender['gender_per']    =   df4_gender.apply( lambda x: (x['id'] / count_male) if x['gender'] == 'Male' else (x['id'] / count_female) , axis=True )\n",
    "df4_gender['gender_per']    =   (df4_gender['gender_per'] * 100).round(2)\n",
    "\n",
    "df4_gender.head()"
   ]
  },
  {
   "cell_type": "code",
   "execution_count": null,
   "metadata": {},
   "outputs": [],
   "source": [
    "# sns.histplot( df4 )\n",
    "df4.hist();"
   ]
  },
  {
   "cell_type": "markdown",
   "metadata": {},
   "source": [
    "## 4.1 Column - Gender"
   ]
  },
  {
   "cell_type": "code",
   "execution_count": null,
   "metadata": {},
   "outputs": [],
   "source": [
    "sns.barplot(data=df4_gender, x='gender', y='gender_per',  hue='response')\n",
    "plt.show()\n",
    "\n",
    "# df4_gender              =   df4.copy()\n",
    "# df4_gender['gender']    =   df4_gender['gender'].map({0 : 'Female', 1 : 'Male'})\n",
    "# df4_gender['response']  =   df4_gender['response'].map({0 : 'Não', 1 : 'Sim'})\n",
    "\n",
    "# sns.displot(data=df4_gender, x=\"gender\", hue=\"response\", multiple=\"stack\")"
   ]
  },
  {
   "cell_type": "markdown",
   "metadata": {},
   "source": [
    "## 4.2 Column - age"
   ]
  },
  {
   "cell_type": "code",
   "execution_count": null,
   "metadata": {},
   "outputs": [],
   "source": [
    "# sorted(df4['age'].unique())\n",
    "df4_age             =   df4[['id', 'age', 'response']].groupby(['age', 'response']).count().reset_index()\n",
    "df4_age['response'] =   df4_age['response'].map({0 : 'Não', 1 : 'Sim'})\n",
    "df4_age.columns     =   ['age', 'response', 'count']\n",
    "\n",
    "# df4_age.head()"
   ]
  },
  {
   "cell_type": "code",
   "execution_count": null,
   "metadata": {},
   "outputs": [],
   "source": [
    "# Criar um gráfico de linha com rótulos para todos os pontos no eixo x\n",
    "ax = sns.lineplot(data=df4_age, x=\"age\", y=\"count\", hue=\"response\", style=\"response\", markers=True, dashes=False)\n",
    "\n",
    "# Adicionar rótulos a todos os pontos no eixo x\n",
    "for x, y, label in zip(df4_age[\"age\"], df4_age[\"count\"], df4_age[\"age\"]):\n",
    "    plt.annotate(label, (x, y), textcoords=\"offset points\", xytext=(0,5), ha='center')\n",
    "\n",
    "# Adicionar rótulos aos eixos\n",
    "plt.xlabel('Idade')\n",
    "plt.ylabel('Quantidade')\n",
    "\n",
    "# Exibir o gráfico\n",
    "plt.show()"
   ]
  },
  {
   "cell_type": "markdown",
   "metadata": {},
   "source": [
    "## 4.3 Column - driving_license"
   ]
  },
  {
   "cell_type": "code",
   "execution_count": null,
   "metadata": {},
   "outputs": [],
   "source": [
    "df4_driving_license             =   df4[['id', 'driving_license', 'response']].groupby(['driving_license', 'response']).count().reset_index()\n",
    "df4_driving_license.columns     =   ['driving_license', 'response', 'count']\n",
    "df4_driving_license['response'] =   df4_driving_license['response'].map({0 : 'Não', 1 : 'Sim'})\n",
    "df4_driving_license"
   ]
  },
  {
   "cell_type": "markdown",
   "metadata": {},
   "source": [
    "## 4.4 Column - region_code"
   ]
  },
  {
   "cell_type": "code",
   "execution_count": 357,
   "metadata": {},
   "outputs": [],
   "source": [
    "region_code             =   df4[['id', 'region_code', 'response']].groupby(['region_code', 'response']).count().reset_index()\n",
    "region_code.columns     =   ['region_code', 'response', 'count']\n",
    "region_code['response'] =   region_code['response'].map({0 : 'Não', 1 : 'Sim'})"
   ]
  },
  {
   "cell_type": "code",
   "execution_count": 362,
   "metadata": {},
   "outputs": [
    {
     "data": {
      "text/html": [
       "<div>\n",
       "<style scoped>\n",
       "    .dataframe tbody tr th:only-of-type {\n",
       "        vertical-align: middle;\n",
       "    }\n",
       "\n",
       "    .dataframe tbody tr th {\n",
       "        vertical-align: top;\n",
       "    }\n",
       "\n",
       "    .dataframe thead th {\n",
       "        text-align: right;\n",
       "    }\n",
       "</style>\n",
       "<table border=\"1\" class=\"dataframe\">\n",
       "  <thead>\n",
       "    <tr style=\"text-align: right;\">\n",
       "      <th></th>\n",
       "      <th>region_code</th>\n",
       "      <th>response</th>\n",
       "      <th>count</th>\n",
       "    </tr>\n",
       "  </thead>\n",
       "  <tbody>\n",
       "    <tr>\n",
       "      <th>0</th>\n",
       "      <td>0.0</td>\n",
       "      <td>Não</td>\n",
       "      <td>1847</td>\n",
       "    </tr>\n",
       "    <tr>\n",
       "      <th>1</th>\n",
       "      <td>0.0</td>\n",
       "      <td>Sim</td>\n",
       "      <td>174</td>\n",
       "    </tr>\n",
       "    <tr>\n",
       "      <th>2</th>\n",
       "      <td>1.0</td>\n",
       "      <td>Não</td>\n",
       "      <td>899</td>\n",
       "    </tr>\n",
       "    <tr>\n",
       "      <th>3</th>\n",
       "      <td>1.0</td>\n",
       "      <td>Sim</td>\n",
       "      <td>109</td>\n",
       "    </tr>\n",
       "    <tr>\n",
       "      <th>4</th>\n",
       "      <td>2.0</td>\n",
       "      <td>Não</td>\n",
       "      <td>3751</td>\n",
       "    </tr>\n",
       "  </tbody>\n",
       "</table>\n",
       "</div>"
      ],
      "text/plain": [
       "   region_code response  count\n",
       "0          0.0      Não   1847\n",
       "1          0.0      Sim    174\n",
       "2          1.0      Não    899\n",
       "3          1.0      Sim    109\n",
       "4          2.0      Não   3751"
      ]
     },
     "execution_count": 362,
     "metadata": {},
     "output_type": "execute_result"
    }
   ],
   "source": [
    "region_code.head()"
   ]
  },
  {
   "cell_type": "code",
   "execution_count": null,
   "metadata": {},
   "outputs": [],
   "source": [
    "sns.lineplot(data=region_code, x=\"region_code\", y=\"count\", hue=\"response\");"
   ]
  },
  {
   "cell_type": "code",
   "execution_count": 360,
   "metadata": {},
   "outputs": [],
   "source": [
    "df_raw = region_code.groupby(['region_code', 'response']).sum().reset_index()"
   ]
  },
  {
   "cell_type": "code",
   "execution_count": 361,
   "metadata": {},
   "outputs": [
    {
     "data": {
      "text/html": [
       "<div>\n",
       "<style scoped>\n",
       "    .dataframe tbody tr th:only-of-type {\n",
       "        vertical-align: middle;\n",
       "    }\n",
       "\n",
       "    .dataframe tbody tr th {\n",
       "        vertical-align: top;\n",
       "    }\n",
       "\n",
       "    .dataframe thead th {\n",
       "        text-align: right;\n",
       "    }\n",
       "</style>\n",
       "<table border=\"1\" class=\"dataframe\">\n",
       "  <thead>\n",
       "    <tr style=\"text-align: right;\">\n",
       "      <th></th>\n",
       "      <th>region_code</th>\n",
       "      <th>response</th>\n",
       "      <th>count</th>\n",
       "    </tr>\n",
       "  </thead>\n",
       "  <tbody>\n",
       "    <tr>\n",
       "      <th>0</th>\n",
       "      <td>0.0</td>\n",
       "      <td>Não</td>\n",
       "      <td>1847</td>\n",
       "    </tr>\n",
       "    <tr>\n",
       "      <th>1</th>\n",
       "      <td>0.0</td>\n",
       "      <td>Sim</td>\n",
       "      <td>174</td>\n",
       "    </tr>\n",
       "    <tr>\n",
       "      <th>2</th>\n",
       "      <td>1.0</td>\n",
       "      <td>Não</td>\n",
       "      <td>899</td>\n",
       "    </tr>\n",
       "    <tr>\n",
       "      <th>3</th>\n",
       "      <td>1.0</td>\n",
       "      <td>Sim</td>\n",
       "      <td>109</td>\n",
       "    </tr>\n",
       "    <tr>\n",
       "      <th>4</th>\n",
       "      <td>2.0</td>\n",
       "      <td>Não</td>\n",
       "      <td>3751</td>\n",
       "    </tr>\n",
       "  </tbody>\n",
       "</table>\n",
       "</div>"
      ],
      "text/plain": [
       "   region_code response  count\n",
       "0          0.0      Não   1847\n",
       "1          0.0      Sim    174\n",
       "2          1.0      Não    899\n",
       "3          1.0      Sim    109\n",
       "4          2.0      Não   3751"
      ]
     },
     "execution_count": 361,
     "metadata": {},
     "output_type": "execute_result"
    }
   ],
   "source": [
    "df_raw.head()"
   ]
  },
  {
   "cell_type": "code",
   "execution_count": 342,
   "metadata": {},
   "outputs": [],
   "source": [
    "df_aux = pd.merge(df_raw, region_code, on='region_code', how='outer')\n",
    "df_aux['count_per'] = (100 / df_aux['count_x'] * df_aux['count_y']).round(2)"
   ]
  },
  {
   "cell_type": "code",
   "execution_count": 353,
   "metadata": {},
   "outputs": [],
   "source": [
    "df_aux = df_aux.sort_values('count_per', ascending=False)"
   ]
  },
  {
   "cell_type": "code",
   "execution_count": 355,
   "metadata": {},
   "outputs": [],
   "source": [
    "# df_aux['']"
   ]
  },
  {
   "cell_type": "markdown",
   "metadata": {},
   "source": [
    "## 4.5 Column - previously_insured"
   ]
  },
  {
   "cell_type": "code",
   "execution_count": null,
   "metadata": {},
   "outputs": [],
   "source": [
    "previously_insured             =   df4[['id', 'previously_insured', 'response']].groupby(['previously_insured', 'response']).count().reset_index()\n",
    "previously_insured.columns     =   ['previously_insured', 'response', 'count']\n",
    "previously_insured['response'] =   previously_insured['response'].map({0 : 'Não', 1 : 'Sim'})"
   ]
  },
  {
   "cell_type": "markdown",
   "metadata": {},
   "source": [
    "## 4.6 Column - vehicle_age"
   ]
  },
  {
   "cell_type": "code",
   "execution_count": null,
   "metadata": {},
   "outputs": [],
   "source": [
    "vehicle_age             =   df4[['id', 'vehicle_age', 'response']].groupby(['vehicle_age', 'response']).count().reset_index()\n",
    "vehicle_age.columns     =   ['vehicle_age', 'response', 'count']\n",
    "vehicle_age['response'] =   vehicle_age['response'].map({0 : 'Não', 1 : 'Sim'})"
   ]
  },
  {
   "cell_type": "code",
   "execution_count": 326,
   "metadata": {},
   "outputs": [],
   "source": [
    "df_raw = vehicle_age.groupby('vehicle_age').sum().reset_index()\n",
    "df_raw = pd.merge(vehicle_age, df_raw[['vehicle_age', 'count']], on='vehicle_age', how='inner')\n",
    "# df_aux = pd.merge(df4_aux_response_sim, df4_aux_count_all, on='policy_sales_channel', how='inner')\n",
    "# vehicle_age.head()\n",
    "df_raw['count_per'] = (100 / df_raw['count_y'] * df_raw['count_x'])"
   ]
  },
  {
   "cell_type": "code",
   "execution_count": 329,
   "metadata": {},
   "outputs": [],
   "source": [
    "# df_raw.sort_values('count_per')"
   ]
  },
  {
   "cell_type": "markdown",
   "metadata": {},
   "source": [
    "## 4.7 Column - vehicle_damage"
   ]
  },
  {
   "cell_type": "code",
   "execution_count": null,
   "metadata": {},
   "outputs": [],
   "source": [
    "vehicle_damage             =   df4[['id', 'vehicle_damage', 'response']].groupby(['vehicle_damage', 'response']).count().reset_index()\n",
    "vehicle_damage.columns     =   ['vehicle_damage', 'response', 'count']\n",
    "vehicle_damage['response'] =   vehicle_damage['response'].map({0 : 'Não', 1 : 'Sim'})"
   ]
  },
  {
   "cell_type": "markdown",
   "metadata": {},
   "source": [
    "## 4.8 Column - annual_premium "
   ]
  },
  {
   "cell_type": "code",
   "execution_count": null,
   "metadata": {},
   "outputs": [],
   "source": [
    "annual_premium             =   df4[['id', 'annual_premium', 'response']].groupby(['annual_premium', 'response']).count().reset_index()\n",
    "annual_premium.columns     =   ['annual_premium', 'response', 'count']\n",
    "annual_premium['response'] =   annual_premium['response'].map({0 : 'Não', 1 : 'Sim'})"
   ]
  },
  {
   "cell_type": "markdown",
   "metadata": {},
   "source": [
    "## 4.9 Column - policy_sales_channel"
   ]
  },
  {
   "cell_type": "code",
   "execution_count": null,
   "metadata": {},
   "outputs": [],
   "source": [
    "policy_sales_channel             =   df4[['id', 'policy_sales_channel', 'response']].groupby(['policy_sales_channel', 'response']).count().reset_index()\n",
    "policy_sales_channel.columns     =   ['policy_sales_channel', 'response', 'count']\n",
    "policy_sales_channel['response'] =   policy_sales_channel['response'].map({0 : 'Não', 1 : 'Sim'})\n",
    "policy_sales_channel.head()"
   ]
  },
  {
   "cell_type": "code",
   "execution_count": null,
   "metadata": {},
   "outputs": [],
   "source": [
    "# policy_sales_channel['count'] = np.log(policy_sales_channel['count'])\n",
    "# sns.lineplot(data= policy_sales_channel, x=\"policy_sales_channel\", y=\"count\", hue=\"response\", marker=\"o\");"
   ]
  },
  {
   "cell_type": "code",
   "execution_count": null,
   "metadata": {},
   "outputs": [],
   "source": [
    "df4_aux_count_all = policy_sales_channel[['count', 'policy_sales_channel']].groupby('policy_sales_channel').sum().reset_index()\n",
    "df4_aux_count_all.head()"
   ]
  },
  {
   "cell_type": "code",
   "execution_count": null,
   "metadata": {},
   "outputs": [],
   "source": [
    "policy_sales_channel['percentual'] = policy_sales_channel.groupby('policy_sales_channel')['count'].transform(lambda x: x / x.sum() * 100)\n",
    "df4_aux_response_sim = policy_sales_channel[policy_sales_channel['response'] == 'Sim'].sort_values('percentual', ascending=False)\n",
    "\n",
    "df_aux = pd.merge(df4_aux_response_sim, df4_aux_count_all, on='policy_sales_channel', how='inner')"
   ]
  },
  {
   "cell_type": "code",
   "execution_count": null,
   "metadata": {},
   "outputs": [],
   "source": [
    "df_aux = df_aux[df_aux['count_x'] != df_aux['count_y']].reset_index(drop=True)\n",
    "df_aux.reset_index(inplace=True)\n",
    "df_aux = df_aux[['index', 'policy_sales_channel']]"
   ]
  },
  {
   "cell_type": "code",
   "execution_count": null,
   "metadata": {},
   "outputs": [],
   "source": [
    "df_aux['index'] = df_aux['index'] + 1\n",
    "df_aux.columns = ['policy_sales_channel_edited', 'policy_sales_channel']\n",
    "df4_end = pd.merge(df4, df_aux, on='policy_sales_channel', how='outer')"
   ]
  },
  {
   "cell_type": "code",
   "execution_count": null,
   "metadata": {},
   "outputs": [],
   "source": [
    "df4_end.head()"
   ]
  },
  {
   "cell_type": "markdown",
   "metadata": {},
   "source": [
    "## 4.10 - vintage"
   ]
  },
  {
   "cell_type": "code",
   "execution_count": null,
   "metadata": {},
   "outputs": [],
   "source": [
    "vintage             =   df4[['id', 'vintage', 'response']].groupby(['vintage', 'response']).count().reset_index()\n",
    "vintage.columns     =   ['vintage', 'response', 'count']\n",
    "vintage['response'] =   vintage['response'].map({0 : 'Não', 1 : 'Sim'})"
   ]
  },
  {
   "cell_type": "code",
   "execution_count": null,
   "metadata": {},
   "outputs": [],
   "source": [
    "df_aux_vintage = vintage[['vintage', 'count']].groupby('vintage').sum().reset_index()"
   ]
  },
  {
   "cell_type": "code",
   "execution_count": null,
   "metadata": {},
   "outputs": [],
   "source": [
    "df_aux_vintage = pd.merge( df_aux_vintage, vintage, on='vintage', how='outer' )"
   ]
  },
  {
   "cell_type": "code",
   "execution_count": null,
   "metadata": {},
   "outputs": [],
   "source": [
    "df_aux_vintage['count_per'] = (100 / df_aux_vintage['count_x'] * df_aux_vintage['count_y']).round(2)"
   ]
  },
  {
   "cell_type": "code",
   "execution_count": null,
   "metadata": {},
   "outputs": [],
   "source": [
    "df_aux_vintage_sim = df_aux_vintage[df_aux_vintage['response'] == 'Sim']\n",
    "df_aux_vintage_nao = df_aux_vintage[df_aux_vintage['response'] == 'Não']"
   ]
  },
  {
   "cell_type": "code",
   "execution_count": null,
   "metadata": {},
   "outputs": [],
   "source": [
    "df_aux_vintage = df_aux_vintage_sim.sort_values('count_per', ascending=False).reset_index(drop=True).reset_index()"
   ]
  },
  {
   "cell_type": "code",
   "execution_count": null,
   "metadata": {},
   "outputs": [],
   "source": [
    "df_aux_vintage = df_aux_vintage[['index', 'vintage']]\n",
    "df_aux_vintage.columns = ['vintage_edited', 'vintage']"
   ]
  },
  {
   "cell_type": "code",
   "execution_count": null,
   "metadata": {},
   "outputs": [],
   "source": [
    "df4_end = pd.merge(df4_end, df_aux_vintage, on='vintage', how='outer')"
   ]
  },
  {
   "cell_type": "code",
   "execution_count": 299,
   "metadata": {},
   "outputs": [],
   "source": [
    "df4_end[df4_end['policy_sales_channel_edited'].isna()]  =   0\n",
    "df4_end[df4_end['policy_sales_channel_edited'] == 0]    =   max(df4_end['policy_sales_channel_edited']) + 1"
   ]
  },
  {
   "cell_type": "markdown",
   "metadata": {},
   "source": [
    "## 4.11 - CORR"
   ]
  },
  {
   "cell_type": "code",
   "execution_count": 285,
   "metadata": {},
   "outputs": [
    {
     "data": {
      "image/png": "[encoded data removed]",
      "text/plain": [
       "<Figure size 2500x1200 with 2 Axes>"
      ]
     },
     "metadata": {},
     "output_type": "display_data"
    }
   ],
   "source": [
    "# Calcular a matriz de correlação\n",
    "matriz_correlacao = df4_end.drop(columns=['id']).corr()\n",
    "# matriz_correlacao\n",
    "\n",
    "# Criar um gráfico de calor usando Seaborn\n",
    "# sns.set(style=\"white\")  # Estilo do gráfico\n",
    "# plt.figure(figsize=(8, 6))  # Tamanho da figura\n",
    "sns.heatmap(matriz_correlacao, cmap=\"coolwarm\", annot=True)\n",
    "plt.title('Matriz de Correlação')\n",
    "plt.show()"
   ]
  },
  {
   "cell_type": "markdown",
   "metadata": {},
   "source": [
    "# 5.0. Data Preparation"
   ]
  },
  {
   "cell_type": "markdown",
   "metadata": {},
   "source": [
    "# 6.0. Feature Selection"
   ]
  },
  {
   "cell_type": "markdown",
   "metadata": {},
   "source": [
    "# 7.0. Machine Learning"
   ]
  },
  {
   "cell_type": "markdown",
   "metadata": {},
   "source": [
    "# 8.0. Model Performance "
   ]
  }
 ],
 "metadata": {
  "kernelspec": {
   "display_name": ".venv",
   "language": "python",
   "name": "python3"
  },
  "language_info": {
   "codemirror_mode": {
    "name": "ipython",
    "version": 3
   },
   "file_extension": ".py",
   "mimetype": "text/x-python",
   "name": "python",
   "nbconvert_exporter": "python",
   "pygments_lexer": "ipython3",
   "version": "3.11.7"
  }
 },
 "nbformat": 4,
 "nbformat_minor": 2
}
